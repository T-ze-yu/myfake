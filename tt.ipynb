{
 "cells": [
  {
   "cell_type": "code",
   "execution_count": 1,
   "metadata": {},
   "outputs": [],
   "source": [
    "from faker import Faker\n",
    "import random\n",
    "random.seed(99)"
   ]
  },
  {
   "cell_type": "code",
   "execution_count": 2,
   "metadata": {},
   "outputs": [
    {
     "data": {
      "text/plain": [
       "'刘旭'"
      ]
     },
     "execution_count": 2,
     "metadata": {},
     "output_type": "execute_result"
    }
   ],
   "source": [
    "fake = Faker(locale=\"zh-CN\")\n",
    "Faker.seed(4321)\n",
    "fake.last_name() + fake.first_name_male()"
   ]
  },
  {
   "cell_type": "code",
   "execution_count": 135,
   "metadata": {},
   "outputs": [
    {
     "data": {
      "text/plain": [
       "35"
      ]
     },
     "execution_count": 135,
     "metadata": {},
     "output_type": "execute_result"
    }
   ],
   "source": [
    "cols = ['日期','时间','年份','月份','国家','省份','城市','地点','姓名', '性别', '身份证号','出生日期', '手机号', '座机号/传真','政治面貌','民族', '学历', '专业', \n",
    "        '公司','公司性质', '职位', 'uuid/硬件标识', '邮箱','哈希值', '域名','ipv4地址','ipv6地址', 'mac地址', 'url', '用户代理(user_agent)','车牌号','信用卡号',\n",
    "        '银行名称','组织机构代码','统一社会信用代码']\n",
    "len(cols)\n",
    "     "
   ]
  },
  {
   "cell_type": "code",
   "execution_count": 133,
   "metadata": {},
   "outputs": [
    {
     "data": {
      "text/plain": [
       "'ww99'"
      ]
     },
     "execution_count": 133,
     "metadata": {},
     "output_type": "execute_result"
    }
   ],
   "source": [
    "w=['ww','99']\n",
    "''.join(w)"
   ]
  },
  {
   "cell_type": "code",
   "execution_count": 84,
   "metadata": {},
   "outputs": [
    {
     "data": {
      "text/plain": [
       "'山东省利市闵行赵街2884号'"
      ]
     },
     "execution_count": 84,
     "metadata": {},
     "output_type": "execute_result"
    }
   ],
   "source": [
    "\n",
    "fake.address().split()[0][:-2]+str(hao)+'号'"
   ]
  },
  {
   "cell_type": "code",
   "execution_count": 19,
   "metadata": {},
   "outputs": [],
   "source": [
    "def get_phone():\n",
    "    phone = fake.phone_number()\n",
    "    ms1 = random.choice(['86','86 ','+86','+86 ', ''])\n",
    "    ms2 = random.choice([' ', '-',''])\n",
    "    if ms2:\n",
    "        phone = phone[:3]+ms2+phone[3:7]+ms2+phone[7:]\n",
    "    phone = ms1+phone\n",
    "    return phone"
   ]
  },
  {
   "cell_type": "code",
   "execution_count": 37,
   "metadata": {},
   "outputs": [
    {
     "data": {
      "text/plain": [
       "'+86139-8671-1432'"
      ]
     },
     "execution_count": 37,
     "metadata": {},
     "output_type": "execute_result"
    }
   ],
   "source": [
    "pp = get_phone()\n",
    "pp"
   ]
  },
  {
   "cell_type": "code",
   "execution_count": 60,
   "metadata": {},
   "outputs": [],
   "source": [
    "quhao = []\n",
    "with open('quhao.txt', 'r', encoding='utf-8') as fr:\n",
    "    for line in fr:\n",
    "        ln = line.split()\n",
    "        if len(ln)>1:\n",
    "            quhao.append(ln[1])\n"
   ]
  },
  {
   "cell_type": "code",
   "execution_count": 90,
   "metadata": {},
   "outputs": [
    {
     "data": {
      "text/plain": [
       "'0374 489 335'"
      ]
     },
     "execution_count": 90,
     "metadata": {},
     "output_type": "execute_result"
    }
   ],
   "source": [
    "# random.seed(99)\n",
    "def get_telephone():\n",
    "    qh = random.choice(quhao)   #获取区号\n",
    "    #随机选取一个3位数或4位数       #随机生成一个3位数 #随机生成一个4位数\n",
    "    ms0 = random.choice([str(random.randint(100,999)),str(random.randint(1000,9999))])\n",
    "    ms1 = random.choice([str(random.randint(100,999)),str(random.randint(1000,9999))])\n",
    "    ms2 = random.choice([' ', '-',''])\n",
    "    telephone = qh+ms2+ms0+ms2+ms1\n",
    "    return telephone\n",
    "get_telephone()"
   ]
  },
  {
   "cell_type": "code",
   "execution_count": 190,
   "metadata": {},
   "outputs": [
    {
     "data": {
      "text/plain": [
       "('520401196107071325', '07月07日')"
      ]
     },
     "execution_count": 190,
     "metadata": {},
     "output_type": "execute_result"
    }
   ],
   "source": [
    "def get_idcard():\n",
    "    id_card = fake.ssn()\n",
    "    birth_year = str(id_card[6:10])\n",
    "    birth_month = str(id_card[10:12])\n",
    "    birth_day = str(id_card[12:14])\n",
    "    ms = random.choice([' ','-','/'])\n",
    "    if random.random()<0.6: #0.6概率的生日为月日\n",
    "        birth = random.choices([birth_month+ ms+ birth_day, birth_month+ '月'+ birth_day+'日'], weights=[7,3])\n",
    "    else:           #生日为年月日\n",
    "        birth = random.choices([birth_year+ ms+ birth_month+ ms+ birth_day, birth_year+ '年'+ birth_month+ '月'+ birth_day+'日'], weights=[7,3])\n",
    "    if random.random()>0.8:\n",
    "        id_card = id_card[:6] + id_card[8:17]\n",
    "    if int(birth_year)<2020 and int(birth_year)>1900:\n",
    "        return id_card, birth[0]\n",
    "    return get_idcard()\n",
    "get_idcard()"
   ]
  },
  {
   "cell_type": "code",
   "execution_count": 12,
   "metadata": {},
   "outputs": [
    {
     "data": {
      "text/plain": [
       "'622900197911211190'"
      ]
     },
     "execution_count": 12,
     "metadata": {},
     "output_type": "execute_result"
    }
   ],
   "source": [
    "id = get_idcard()\n",
    "id"
   ]
  },
  {
   "cell_type": "code",
   "execution_count": 103,
   "metadata": {},
   "outputs": [
    {
     "data": {
      "text/plain": [
       "12"
      ]
     },
     "execution_count": 103,
     "metadata": {},
     "output_type": "execute_result"
    }
   ],
   "source": [
    "len(fake.credit_card_number())"
   ]
  },
  {
   "cell_type": "code",
   "execution_count": 136,
   "metadata": {},
   "outputs": [
    {
     "name": "stdout",
     "output_type": "stream",
     "text": [
      "56\n",
      "56\n"
     ]
    }
   ],
   "source": [
    "mz = []\n",
    "wt = []\n",
    "with open('mz.txt', 'r', encoding='utf-8') as fr:\n",
    "    for line in fr:\n",
    "        ln = line.split()\n",
    "        if ln:\n",
    "            ln = ln[0].split('：')\n",
    "            mz.append(ln[0].split('、')[1])\n",
    "            wt.append(ln[1][:-1])\n",
    "print(len(mz))\n",
    "print(len(wt))"
   ]
  },
  {
   "cell_type": "code",
   "execution_count": 63,
   "metadata": {},
   "outputs": [
    {
     "data": {
      "text/plain": [
       "{'job': '打稿机操作员',\n",
       " 'company': '东方峻景科技有限公司',\n",
       " 'ssn': '451301197305217120',\n",
       " 'residence': '湖北省燕县新城王路W座 167259',\n",
       " 'current_location': (Decimal('-5.2436345'), Decimal('-150.214161')),\n",
       " 'blood_group': 'A+',\n",
       " 'website': ['https://www.chaozhang.com/', 'https://www.moding.cn/'],\n",
       " 'username': 'caili',\n",
       " 'name': '胡玉',\n",
       " 'sex': 'M',\n",
       " 'address': '香港特别行政区秀芳市合川李街r座 357100',\n",
       " 'mail': 'xiongjie@hotmail.com',\n",
       " 'birthdate': datetime.date(1908, 9, 5)}"
      ]
     },
     "execution_count": 63,
     "metadata": {},
     "output_type": "execute_result"
    }
   ],
   "source": [
    "fake.profile()"
   ]
  },
  {
   "cell_type": "code",
   "execution_count": 79,
   "metadata": {},
   "outputs": [
    {
     "data": {
      "text/plain": [
       "['致公党党员']"
      ]
     },
     "execution_count": 79,
     "metadata": {},
     "output_type": "execute_result"
    }
   ],
   "source": [
    "zzmm = ['中共党员', '党员','中共预备党员','预备党员', '共青团员', '团员', '民革党员', '民盟盟员','民建会员', \n",
    "'民进会员', '农工党党员', '致公党党员', '九三学社社员', '台盟盟员', '无党派人士', '群众', '普通居民']\n",
    "wt = [3,5,2,2,5,6,0.6,0.6,0.6,0.6,0.6,0.6,0.6,0.6,0.6,9,3]\n",
    "random.choices(zzmm, weights=wt, k=1)"
   ]
  },
  {
   "cell_type": "code",
   "execution_count": 138,
   "metadata": {},
   "outputs": [
    {
     "data": {
      "text/plain": [
       "'经济完全之间管理类别电话.本站出来发展信息一样中心方式.关系设计女人部门这是欢迎.\\n你的合作希望主要应用积分.不会价格关系下载所以因为通过.\\n一切是一音乐商品.科技日本喜欢之后相关.网站现在特别.\\n能够建设怎么责任发布大小部门.标准必须喜欢原因还是生产.都是阅读游戏当前.\\n经济产品文章提供公司处理.日期电话报告系列有些.\\n主要处理方面一下由于虽然如果.产品一直生活信息.'"
      ]
     },
     "execution_count": 138,
     "metadata": {},
     "output_type": "execute_result"
    }
   ],
   "source": [
    "['小学','初级中学','初中','高级中学','高中','职业高中','职高','中等专业','中专']\n",
    "小学；中等教育，初级中学、高级中学，如，职高、中专、普通高级中学\n",
    "['博士','硕士']\n",
    "['本科','专科','高职']\n",
    "['函授','夜大','自考','网络教育','电大']\n",
    "全日制普通博士研究生、全日制及非全日制普通硕士研究生(包括学术型硕士和专业硕士)、全日制普通本科、全日制普通第二学士学位、全日制普通专科(高职)、普通中专。继续教育包含：成人高考中的函授，夜大、自考、网络教育、电大"
   ]
  },
  {
   "cell_type": "code",
   "execution_count": 151,
   "metadata": {},
   "outputs": [
    {
     "data": {
      "text/plain": [
       "'全日制普通博士研究生'"
      ]
     },
     "execution_count": 151,
     "metadata": {},
     "output_type": "execute_result"
    }
   ],
   "source": [
    "def get_xl():\n",
    "    ra = random.random()\n",
    "    sm2 = random.choice(['全日制','非全日制',''])\n",
    "    sm3 = random.choice(['普通',''])\n",
    "    if ra<0.4:\n",
    "        sm1 = random.choice(['小学','初级中学','初中','高级中学','高中','职业高中','职高','中等专业','中专'])\n",
    "        return sm2+sm3+sm1\n",
    "    elif 0.4<= ra < 0.8:\n",
    "        sm1 = random.choice(['博士','硕士', '本科','专科','高职'])\n",
    "        if sm1 in ['博士','硕士'] and random.random()<0.6:\n",
    "            return sm2+sm3+sm1+'研究生'\n",
    "        else:\n",
    "            return sm2+sm3+sm1\n",
    "    else:\n",
    "        return random.choice(['函授','夜大','自考','网络教育','电大'])\n",
    "get_xl()\n"
   ]
  },
  {
   "cell_type": "code",
   "execution_count": 105,
   "metadata": {},
   "outputs": [],
   "source": [
    "number_list = ['零', '一', '二', '三', '四', '五', '六', '七', '八', '九', '十']\n",
    "#获取日期/时间\n",
    "def get_time():\n",
    "    tm = fake.date_time()\n",
    "    ra = random.random()\n",
    "    year = str(tm.year)\n",
    "    year_cn = ''\n",
    "    for i in year:\n",
    "        year_cn += number_list[int(i)]      #中文年\n",
    "    #一位数时在两位与一位随机\n",
    "    month = random.choice([str(tm.month),'0'+str(tm.month)]) if tm.month<10 else str(tm.month)\n",
    "    month_cn = number_list[tm.month] if tm.month<=10 else '十'+number_list(int(month[1]))     #中文月\n",
    "\n",
    "    day = random.choice([str(tm.day),'0'+str(tm.day)]) if tm.day<10 else str(tm.day)\n",
    "    day_cn = num_cn(tm.day)#中文日         \n",
    "\n",
    "    hour = random.choice([str(tm.hour),'0'+str(tm.hour)]) if tm.hour<10 else str(tm.hour)\n",
    "    hour_cn = num_cn(tm.hour)\n",
    "    minute = random.choice([str(tm.minute),'0'+str(tm.minute)]) if tm.minute<10 else str(tm.minute)\n",
    "    minute_cn = num_cn(tm.minute)\n",
    "    second = random.choice([str(tm.second),'0'+str(tm.second)]) if tm.second<10 else str(tm.second)\n",
    "    second_cn = num_cn(tm.second)\n",
    "\n",
    "    ms = random.choice([' ','-','/'])\n",
    "    if ra<0.35: #日期为月日\n",
    "        rq = random.choices([month+ ms+ day, month+ '月'+ day+'日', month_cn+ '月'+ day_cn+'日'], weights=[6,4,3])\n",
    "    elif ra<0.7: #日期为年月\n",
    "        rq = random.choices([year+ ms+ month, year+ '年'+ month+'月', year_cn+ '年'+ month_cn+'月'], weights=[6,4,3])\n",
    "    else:           #日期为年月日\n",
    "        rq = random.choices([year+ ms+ month+ ms+ day, year+ '年'+ month+ '月'+ day+'日', year_cn+ '年'+ month_cn+ '月'+ day_cn+'日'], weights=[7,3,3])\n",
    "    \n",
    "    stm = str(tm)\n",
    "    if ra<0.3:      #时间为年月日时分秒 0.3\n",
    "        sj = random.choices([stm, stm.replace('-','/'), stm.replace('-',' '), year+ '年'+ month+ '月'+ day+'日 '+stm.split()[1],\n",
    "         year+ '年'+ month+ '月'+ day+'日'+ hour+'时'+minute+'分'+second+'秒', year_cn+ '年'+ month_cn+ '月'+ day_cn+'日'+ hour_cn+'时'+minute_cn+'分'+second_cn+'秒'],\n",
    "                            weights=[3,2,2,1.5,1.5,1.5])\n",
    "    elif ra<0.45:   #时间为年月日时分   0.45\n",
    "        stm = stm[:-3]\n",
    "        sj = random.choices([stm, stm.replace('-','/'), stm.replace('-',' '), year+ '年'+ month+ '月'+ day+'日 '+stm.split()[1],\n",
    "         year+ '年'+ month+ '月'+ day+'日'+ hour+'时'+minute+'分', year_cn+ '年'+ month_cn+ '月'+ day_cn+'日'+ hour_cn+'时'+minute_cn+'分'],\n",
    "                            weights=[3,2,2,1.5,1.5,1.5])\n",
    "    elif ra<0.6:   #时间为月日时分秒   0.6\n",
    "        stm = stm[5:]\n",
    "        sj = random.choices([stm, stm.replace('-','/'), stm.replace('-',' '), month+ '月'+ day+'日 '+stm.split()[1],\n",
    "         month+ '月'+ day+'日'+ hour+'时'+minute+'分'+second+'秒', month_cn+ '月'+ day_cn+'日'+ hour_cn+'时'+minute_cn+'分'+second_cn+'秒'],\n",
    "                            weights=[3,2,2,1.5,1.5,1.5])\n",
    "    elif ra<0.7:    #时间为月日时分     0.7\n",
    "        stm = stm[5:16]\n",
    "        sj = random.choices([stm, stm.replace('-','/'), stm.replace('-',' '), month+ '月'+ day+'日 '+stm.split()[1],\n",
    "         month+ '月'+ day+'日'+ hour+'时'+minute+'分', month_cn+ '月'+ day_cn+'日'+ hour_cn+'时'+minute_cn+'分'],\n",
    "                            weights=[3,2,2,1.5,1.5,1.5])\n",
    "    elif ra<0.9:    #时间为时分秒       0.9\n",
    "        stm = stm.split()[1]\n",
    "        sj = random.choices([stm, hour+'时'+minute+'分'+second+'秒', hour_cn+'时'+minute_cn+'分'+second_cn+'秒'],\n",
    "                            weights=[4,2,2])\n",
    "    else:       #时间为时分         1\n",
    "        stm = stm.split()[1][:-3]\n",
    "        sj = random.choices([stm, hour+'时'+minute+'分', hour_cn+'时'+minute_cn+'分'],\n",
    "                            weights=[3,2,2])\n",
    "\n",
    "    return rq, sj\n",
    "\n",
    "#获取年份\n",
    "def get_year():\n",
    "    year = fake.year()\n",
    "    return random.choice([year, year+'年'])\n",
    "\n",
    "#获取月份\n",
    "def get_month():\n",
    "    ra = random.random()\n",
    "    if ra<0.4:\n",
    "        month = str(int(fake.month()))\n",
    "        return month+'月'\n",
    "    elif ra<0.8:\n",
    "        return fake.month_name()\n",
    "    else:\n",
    "        return Faker('en_US').month_name()\n"
   ]
  },
  {
   "cell_type": "code",
   "execution_count": 127,
   "metadata": {},
   "outputs": [
    {
     "data": {
      "text/plain": [
       "('2003', 'October', (['一九七六年三月十八日'], ['22:10:13']))"
      ]
     },
     "execution_count": 127,
     "metadata": {},
     "output_type": "execute_result"
    }
   ],
   "source": [
    "get_year(),get_month(),get_time()"
   ]
  },
  {
   "cell_type": "code",
   "execution_count": 78,
   "metadata": {},
   "outputs": [
    {
     "data": {
      "text/plain": [
       "597858986"
      ]
     },
     "execution_count": 78,
     "metadata": {},
     "output_type": "execute_result"
    }
   ],
   "source": [
    "fake.unix_time()\n"
   ]
  },
  {
   "cell_type": "code",
   "execution_count": 22,
   "metadata": {},
   "outputs": [
    {
     "data": {
      "text/plain": [
       "'17:56'"
      ]
     },
     "execution_count": 22,
     "metadata": {},
     "output_type": "execute_result"
    }
   ],
   "source": [
    "str(tm).split()[1][:-3]"
   ]
  },
  {
   "cell_type": "code",
   "execution_count": 119,
   "metadata": {},
   "outputs": [],
   "source": [
    "#两位数转中文\n",
    "def num_cn(n):  \n",
    "    if n<=10:\n",
    "        return number_list[n]\n",
    "    elif n%10==0:\n",
    "        return number_list[n//10]+'十'\n",
    "    elif n<20:\n",
    "        return random.choice([number_list[n//10]+'十'+number_list[n%10], '十'+number_list[n%10]])\n",
    "    else:\n",
    "        return number_list[n//10]+'十'+number_list[n%10]  \n",
    "    "
   ]
  },
  {
   "cell_type": "code",
   "execution_count": 125,
   "metadata": {},
   "outputs": [
    {
     "data": {
      "text/plain": [
       "'一十一'"
      ]
     },
     "execution_count": 125,
     "metadata": {},
     "output_type": "execute_result"
    }
   ],
   "source": [
    "num_cn(11)"
   ]
  },
  {
   "cell_type": "code",
   "execution_count": 264,
   "metadata": {},
   "outputs": [
    {
     "data": {
      "text/plain": [
       "'July'"
      ]
     },
     "execution_count": 264,
     "metadata": {},
     "output_type": "execute_result"
    }
   ],
   "source": [
    "fake2 = Faker(locale=\"en_US\")\n",
    "fake2.month_name()"
   ]
  },
  {
   "cell_type": "code",
   "execution_count": 235,
   "metadata": {},
   "outputs": [
    {
     "data": {
      "text/plain": [
       "'2006-12-30 10:03:30'"
      ]
     },
     "execution_count": 235,
     "metadata": {},
     "output_type": "execute_result"
    }
   ],
   "source": [
    "str(time)"
   ]
  },
  {
   "cell_type": "code",
   "execution_count": 128,
   "metadata": {},
   "outputs": [],
   "source": [
    "if 5<6:\n",
    "    r = 9\n",
    "elif 5<9:\n",
    "    r=0\n",
    "else:\n",
    "    r=7"
   ]
  },
  {
   "cell_type": "code",
   "execution_count": 279,
   "metadata": {},
   "outputs": [
    {
     "data": {
      "text/plain": [
       "'566089747356'"
      ]
     },
     "execution_count": 279,
     "metadata": {},
     "output_type": "execute_result"
    }
   ],
   "source": [
    "fake.credit_card_number()"
   ]
  },
  {
   "cell_type": "code",
   "execution_count": 218,
   "metadata": {},
   "outputs": [
    {
     "data": {
      "text/plain": [
       "'国讯信息有限公司'"
      ]
     },
     "execution_count": 218,
     "metadata": {},
     "output_type": "execute_result"
    }
   ],
   "source": [
    "random.choice([fake.company(),fake.company_prefix()])"
   ]
  },
  {
   "cell_type": "code",
   "execution_count": 324,
   "metadata": {},
   "outputs": [
    {
     "data": {
      "text/plain": [
       "'yantao.cn'"
      ]
     },
     "execution_count": 324,
     "metadata": {},
     "output_type": "execute_result"
    }
   ],
   "source": [
    "fake.domain_name()"
   ]
  },
  {
   "cell_type": "code",
   "execution_count": 425,
   "metadata": {},
   "outputs": [
    {
     "data": {
      "text/plain": [
       "'ce0eed2a56dc384259ddba50404b913d304eb28a8821d234ddadc0fd11df89ef'"
      ]
     },
     "execution_count": 425,
     "metadata": {},
     "output_type": "execute_result"
    }
   ],
   "source": [
    "fake.sha256()"
   ]
  },
  {
   "cell_type": "code",
   "execution_count": 443,
   "metadata": {},
   "outputs": [
    {
     "data": {
      "text/plain": [
       "'R99^S3Wu*p'"
      ]
     },
     "execution_count": 443,
     "metadata": {},
     "output_type": "execute_result"
    }
   ],
   "source": [
    "fake.password()"
   ]
  },
  {
   "cell_type": "code",
   "execution_count": 447,
   "metadata": {},
   "outputs": [],
   "source": [
    "def hh():\n",
    "    #         域名\n",
    "    return [fake.domain_name(), fake.ipv4(), fake.ipv6(), fake.mac_address(), random.choice([fake.image_url(), fake.url()])]"
   ]
  },
  {
   "cell_type": "code",
   "execution_count": 448,
   "metadata": {},
   "outputs": [
    {
     "data": {
      "text/plain": [
       "['苏S-EBS167']"
      ]
     },
     "execution_count": 448,
     "metadata": {},
     "output_type": "execute_result"
    }
   ],
   "source": [
    "#随机生成一个车牌号码\n",
    "def car_num():\n",
    " \n",
    "    char0=[\"京\",\"津\",\"沪\",\"渝\",\"冀\",\"豫\",\"云\",\"辽\",\"黑\",\"湘\",\"皖\",\"鲁\",\"新\",\"苏\",\"浙\",\"赣\",\"鄂\",\"桂\",\"甘\",\"晋\",\"蒙\",\"陕\",\"吉\",\"闽\",\"赣\",\"粤\",\"青\",\"藏\",\"川\",\"宁\",\"琼\"] #省份简称\n",
    "    char1='ABCDEFGHJKLMNPQRSTUVWXYZ'#车牌号中没有I和O\n",
    "    char2='0123456789ABCDEFGHJKLMNPQRSTUVWXYZ'\n",
    "\n",
    "\n",
    "    id_1=random.choice(char0)     #车牌号第一位     省份简称\n",
    "    id_2=''.join(random.sample(char1, 1))    #车牌号第二位\n",
    "\n",
    "    while True:\n",
    "        if random.random()<0.6:    #正常\n",
    "            id_3=''.join(random.sample(char2, 5))\n",
    "        else:                         #新能源\n",
    "            id_3=''.join(random.sample(char2, 6))\n",
    "        v=id_3.isalpha() #所有字符都是字母时返回 true\n",
    "        if v==True:\n",
    "           continue\n",
    "        else:\n",
    "            sm = random.choice(['',' ','-'])\n",
    "            car_id=id_1+id_2+sm+id_3\n",
    "            #print car_id\n",
    "            break\n",
    " \n",
    "    return [car_id]\n",
    " \n",
    "car_num()"
   ]
  },
  {
   "cell_type": "code",
   "execution_count": 463,
   "metadata": {},
   "outputs": [],
   "source": [
    "# a = [car_num(),hh()]\n",
    "d = {}\n",
    "d[1]=car_num\n",
    "d[2]=hh\n",
    "# for i in d.values:\n",
    "#     print(i)"
   ]
  },
  {
   "cell_type": "code",
   "execution_count": 99,
   "metadata": {},
   "outputs": [
    {
     "data": {
      "text/plain": [
       "'青海省'"
      ]
     },
     "execution_count": 99,
     "metadata": {},
     "output_type": "execute_result"
    }
   ],
   "source": [
    "fake.province()"
   ]
  },
  {
   "cell_type": "code",
   "execution_count": 461,
   "metadata": {},
   "outputs": [
    {
     "data": {
      "text/plain": [
       "list"
      ]
     },
     "execution_count": 461,
     "metadata": {},
     "output_type": "execute_result"
    }
   ],
   "source": [
    "type(hh())"
   ]
  },
  {
   "cell_type": "code",
   "execution_count": 1,
   "metadata": {},
   "outputs": [],
   "source": [
    "from faker_tylx import myfake"
   ]
  },
  {
   "cell_type": "code",
   "execution_count": 5,
   "metadata": {},
   "outputs": [
    {
     "name": "stdout",
     "output_type": "stream",
     "text": [
      "['汉族', '壮族', '回族', '满族', '维吾尔族', '苗族', '彝族', '土家族', '藏族', '蒙古族', '侗族', '布依族', '瑶族', '白族', '朝鲜族', '哈尼族', '黎族', '哈萨克族', '傣族', '畲族', '傈僳族', '东乡族', '仡佬族', '拉祜族', '佤族', '水族', '纳西族', '羌族', '土族', '仫佬族', '锡伯族', '柯尔克孜族', '景颇族', '达斡尔族', '撒拉族', '布朗族', '毛南族', '塔吉克族', '普米族', '阿昌族', '怒族', '鄂温克族', '京族', '基诺族', '德昂族', '保安族', '俄罗斯族', '裕固族', '乌孜别克族', '门巴族', '鄂伦春族', '独龙族', '赫哲族', '高山族', '珞巴族', '塔塔尔族']\n",
      "[1220844520, 16926381, 10586087, 10387958, 10069346, 9426007, 8714393, 8353912, 6282187, 5981840, 2879974, 2870034, 2796003, 1933510, 1830929, 1660932, 1463064, 1462588, 1261311, 708651, 702839, 621500, 550746, 485966, 429709, 411847, 326295, 309576, 289565, 216257, 190481, 186708, 147828, 131992, 130607, 119639, 101192, 51069, 42861, 39555, 37523, 30875, 28199, 23143, 20556, 20074, 15393, 14378, 10569, 10561, 8659, 6930, 5354, 4009, 3682, 3556]\n"
     ]
    },
    {
     "data": {
      "text/plain": [
       "[['壮族']]"
      ]
     },
     "execution_count": 5,
     "metadata": {},
     "output_type": "execute_result"
    }
   ],
   "source": [
    "fk = myfake()\n",
    "fk.get_mz()"
   ]
  },
  {
   "cell_type": "code",
   "execution_count": 74,
   "metadata": {},
   "outputs": [
    {
     "data": {
      "text/plain": [
       "16"
      ]
     },
     "execution_count": 74,
     "metadata": {},
     "output_type": "execute_result"
    }
   ],
   "source": [
    "len(fake.credit_card_number())"
   ]
  },
  {
   "cell_type": "code",
   "execution_count": 13,
   "metadata": {},
   "outputs": [
    {
     "data": {
      "text/plain": [
       "{1: 9, 9: 0, 7: 7, 8: 8}"
      ]
     },
     "execution_count": 13,
     "metadata": {},
     "output_type": "execute_result"
    }
   ],
   "source": [
    "ss = {1:9,9:0}\n",
    "ss.update({7:7,8:8})\n",
    "ss"
   ]
  },
  {
   "cell_type": "code",
   "execution_count": 475,
   "metadata": {},
   "outputs": [
    {
     "data": {
      "text/plain": [
       "['__class__',\n",
       " '__delattr__',\n",
       " '__dict__',\n",
       " '__dir__',\n",
       " '__doc__',\n",
       " '__eq__',\n",
       " '__format__',\n",
       " '__ge__',\n",
       " '__getattribute__',\n",
       " '__gt__',\n",
       " '__hash__',\n",
       " '__init__',\n",
       " '__init_subclass__',\n",
       " '__le__',\n",
       " '__lt__',\n",
       " '__module__',\n",
       " '__ne__',\n",
       " '__new__',\n",
       " '__reduce__',\n",
       " '__reduce_ex__',\n",
       " '__repr__',\n",
       " '__setattr__',\n",
       " '__sizeof__',\n",
       " '__str__',\n",
       " '__subclasshook__',\n",
       " '__weakref__',\n",
       " 'car_num',\n",
       " 'fake',\n",
       " 'get_company',\n",
       " 'get_country',\n",
       " 'get_data',\n",
       " 'get_email_hs',\n",
       " 'get_idcard_birth',\n",
       " 'get_job',\n",
       " 'get_major',\n",
       " 'get_month',\n",
       " 'get_mz',\n",
       " 'get_mzrs',\n",
       " 'get_name_sex',\n",
       " 'get_network',\n",
       " 'get_phone',\n",
       " 'get_place',\n",
       " 'get_quhao',\n",
       " 'get_telephone',\n",
       " 'get_time',\n",
       " 'get_xl',\n",
       " 'get_year',\n",
       " 'get_zzmm',\n",
       " 'mz',\n",
       " 'mz_rs',\n",
       " 'num_cn',\n",
       " 'number_list',\n",
       " 'quhao',\n",
       " 'seed']"
      ]
     },
     "execution_count": 475,
     "metadata": {},
     "output_type": "execute_result"
    }
   ],
   "source": [
    "dir(fk)"
   ]
  },
  {
   "cell_type": "code",
   "execution_count": 460,
   "metadata": {},
   "outputs": [
    {
     "data": {
      "text/plain": [
       "['get_company',\n",
       " 'get_country',\n",
       " 'get_data',\n",
       " 'get_email_hs',\n",
       " 'get_idcard_birth',\n",
       " 'get_job',\n",
       " 'get_major',\n",
       " 'get_month',\n",
       " 'get_mz',\n",
       " 'get_mzrs',\n",
       " 'get_name_sex',\n",
       " 'get_network',\n",
       " 'get_phone',\n",
       " 'get_place',\n",
       " 'get_quhao',\n",
       " 'get_telephone',\n",
       " 'get_time',\n",
       " 'get_xl',\n",
       " 'get_year',\n",
       " 'get_zzmm']"
      ]
     },
     "execution_count": 460,
     "metadata": {},
     "output_type": "execute_result"
    }
   ],
   "source": [
    "nn=[]\n",
    "for i in dir(myfake):\n",
    "    if 'get_' in i:\n",
    "        nn.append(i)\n",
    "nn"
   ]
  }
 ],
 "metadata": {
  "kernelspec": {
   "display_name": "Python 3.10.2 64-bit",
   "language": "python",
   "name": "python3"
  },
  "language_info": {
   "codemirror_mode": {
    "name": "ipython",
    "version": 3
   },
   "file_extension": ".py",
   "mimetype": "text/x-python",
   "name": "python",
   "nbconvert_exporter": "python",
   "pygments_lexer": "ipython3",
   "version": "3.10.2"
  },
  "orig_nbformat": 4,
  "vscode": {
   "interpreter": {
    "hash": "43c93ff2f0f4dd81c335627799a5fa612945b0c5dacc6eb3532128e34ff19b88"
   }
  }
 },
 "nbformat": 4,
 "nbformat_minor": 2
}
